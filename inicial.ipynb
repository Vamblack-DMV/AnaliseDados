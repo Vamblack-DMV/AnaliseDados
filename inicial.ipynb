{
 "cells": [
  {
   "cell_type": "markdown",
   "metadata": {},
   "source": [
    "# Python Insights - Analisando Dados com Python\n",
    "\n",
    "### Case - Cancelamento de Clientes\n",
    "\n",
    "Você foi contratado por uma empresa com mais de 800 mil clientes para um projeto de Dados. Recentemente a empresa percebeu que da sua base total de clientes, a maioria são clientes inativos, ou seja, que já cancelaram o serviço.\n",
    "\n",
    "Precisando melhorar seus resultados ela quer conseguir entender os principais motivos desses cancelamentos e quais as ações mais eficientes para reduzir esse número.\n",
    "\n",
    "Base de dados e arquivos: https://drive.google.com/drive/folders/1uDesZePdkhiraJmiyeZ-w5tfc8XsNYFZ?usp=drive_link"
   ]
  },
  {
   "cell_type": "code",
   "execution_count": null,
   "metadata": {},
   "outputs": [],
   "source": [
    "# Passo a passo do projeto\n",
    "# Passo 1: importar a base de dados de clientes\n",
    "# Passo 2: visualizar a base de dados\n",
    "# Passo 3: corrigir os problemas da base de dados\n",
    "# Passo 4: analise dos cancelamentos\n",
    "# Passo 5: analise da causa do cancelamento\n",
    "\n",
    "# Instalando as bibliotecas necessárias\n",
    "    # !pip install pandas numpy openpyxl nbformat ipykernel plotly"
   ]
  },
  {
   "cell_type": "code",
   "execution_count": null,
   "metadata": {},
   "outputs": [],
   "source": [
    "# Passo 1: importar a base de dados de clientes\n",
    "import pandas as pd\n",
    "\n",
    "tabela = pd.read_csv(\"cancelamentos.csv\")\n",
    "\n",
    "# Passo 2: visualizar a base de dados\n",
    "# colunas inúteis - informações que não te ajudam te atrapalham\n",
    "tabela = tabela.drop(columns=\"CustomerID\")\n",
    "display (tabela)"
   ]
  },
  {
   "cell_type": "code",
   "execution_count": null,
   "metadata": {},
   "outputs": [],
   "source": [
    "# Passo 3: corrigir os problemas da base de dados\n",
    "# valores vazios - erros de preenchimento\n",
    "display (tabela.info())\n",
    "\n",
    "# eliminando valores vazios\n",
    "tabela = tabela.dropna()\n",
    "display (tabela.info())"
   ]
  },
  {
   "cell_type": "code",
   "execution_count": null,
   "metadata": {},
   "outputs": [],
   "source": [
    "# Passo 4: analise dos cancelamentos\n",
    "display(tabela[\"cancelou\"].value_counts())\n",
    "\n",
    "display(tabela[\"cancelou\"].value_counts(normalize=True))\n",
    "\n",
    "display(tabela[\"cancelou\"].value_counts(normalize=True).map(\"{:.1%}\".format))"
   ]
  },
  {
   "cell_type": "code",
   "execution_count": null,
   "metadata": {},
   "outputs": [],
   "source": [
    "# Passo 5: analise da causa do cancelamento\n",
    "import plotly.express as px\n",
    "\n",
    "# Criar o Gráfico \n",
    "# Para cada coluna da tabela\n",
    "for coluna in tabela.columns:\n",
    "    grafico = px.histogram(tabela, x=coluna, color=\"cancelou\")\n",
    "\n",
    "    # Exibir o gráfico\n",
    "    grafico.show()"
   ]
  },
  {
   "cell_type": "code",
   "execution_count": null,
   "metadata": {},
   "outputs": [],
   "source": [
    "# Análise das causas de cancelamento\n",
    "\n",
    "# Se um cliente ligar mais de 4x para o call center, ele cancela\n",
    "    # Criar m processo que se um cliente ligar 3x, a gente faz de tudo para resolver\n",
    "\n",
    "# Se um cliente atrasar o pagamento mais de 20 dias, ele cancela\n",
    "    # Criar um processo para não deixar o cliente atrasar o pagamento mais de 20 dias\n",
    "\n",
    "# Todos os clientes do contrato mensal cancelam\n",
    "    # Oferecer desconto nos planos atuais e trimestrais\n",
    "\n",
    "tabela = tabela[tabela[\"duracao_contrato\"]!=\"Monthly\"] # Sem contratos mensais\n",
    "tabela = tabela[tabela[\"ligacoes_callcenter\"]<=4] # Sem ligações acima de 4x\n",
    "tabela = tabela[tabela[\"dias_atraso\"]<=20] # Atrasos de pagamento com menos de 20 dias\n",
    "\n",
    "display(tabela[\"cancelou\"].value_counts(normalize=True))"
   ]
  }
 ],
 "metadata": {
  "kernelspec": {
   "display_name": "base",
   "language": "python",
   "name": "python3"
  },
  "language_info": {
   "codemirror_mode": {
    "name": "ipython",
    "version": 3
   },
   "file_extension": ".py",
   "mimetype": "text/x-python",
   "name": "python",
   "nbconvert_exporter": "python",
   "pygments_lexer": "ipython3",
   "version": "3.11.5"
  },
  "orig_nbformat": 4
 },
 "nbformat": 4,
 "nbformat_minor": 2
}
